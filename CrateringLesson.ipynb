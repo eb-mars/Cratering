{
 "cells": [
  {
   "cell_type": "markdown",
   "metadata": {},
   "source": [
    "## Introduction to Craters on Planetary Surfaces\n",
    "\n",
    "#### Learning objectives\n",
    "_Skills_\n",
    "* Use of LandLab model grids, with the possibility of running many other LandLab components to route any kind of flow over a cratered surface, or vary erosion during cratering\n",
    "* Make changes to input parameters to vary the possible sizes of craters \n",
    "* Gain hands-on experience with visualizing output in Python\n",
    "\n",
    "_Key concepts_\n",
    "* Explore and understand the process of simulation of craters on a landscape\n",
    "* Explore how an initially cratered landscape is affected by hillslope diffusion and the flow of surface water"
   ]
  },
  {
   "cell_type": "code",
   "execution_count": 1,
   "metadata": {},
   "outputs": [],
   "source": [
    "import numpy as np\n",
    "from landlab import RasterModelGrid, imshow_grid, NodeStatus, values\n",
    "import random as rdm"
   ]
  },
  {
   "cell_type": "code",
   "execution_count": null,
   "metadata": {},
   "outputs": [],
   "source": []
  }
 ],
 "metadata": {
  "kernelspec": {
   "display_name": "Python 3",
   "language": "python",
   "name": "python3"
  },
  "language_info": {
   "codemirror_mode": {
    "name": "ipython",
    "version": 3
   },
   "file_extension": ".py",
   "mimetype": "text/x-python",
   "name": "python",
   "nbconvert_exporter": "python",
   "pygments_lexer": "ipython3",
   "version": "3.8.5"
  }
 },
 "nbformat": 4,
 "nbformat_minor": 4
}
